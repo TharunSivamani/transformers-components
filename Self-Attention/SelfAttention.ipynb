{
 "cells": [
  {
   "cell_type": "code",
   "execution_count": 1,
   "metadata": {},
   "outputs": [],
   "source": [
    "import numpy as np\n",
    "import math\n",
    "\n",
    "# My name is XXXX --> 4\n",
    "L = 4\n",
    "d_k = 8\n",
    "d_v = 8"
   ]
  },
  {
   "cell_type": "code",
   "execution_count": 2,
   "metadata": {},
   "outputs": [],
   "source": [
    "q = np.random.randn(L, d_k)\n",
    "k = np.random.randn(L, d_k)\n",
    "v = np.random.randn(L, d_k)"
   ]
  },
  {
   "cell_type": "code",
   "execution_count": 3,
   "metadata": {},
   "outputs": [
    {
     "data": {
      "text/plain": [
       "(array([[ 0.61273083,  1.13588303, -0.07668819, -0.11967717, -1.10663414,\n",
       "          0.72558852,  0.32466577,  1.01415271],\n",
       "        [-0.43102019,  1.70190526, -0.27558612, -0.24166775,  0.04095081,\n",
       "          1.04663879, -1.05256731,  0.17359994],\n",
       "        [ 0.06644399, -1.20945125, -0.24851811, -0.88769826, -1.0417973 ,\n",
       "         -0.06049551, -0.27082861,  0.31942523],\n",
       "        [-0.34797781,  1.03270325, -0.21377292,  1.36688   ,  0.56332009,\n",
       "         -1.53889172, -0.18758204,  1.19075472]]),\n",
       " array([[ 0.05174536, -1.17034938, -1.27582011,  1.40638064, -0.87467139,\n",
       "         -0.61068974,  1.50818084, -0.08137509],\n",
       "        [ 1.5182199 ,  0.29325469,  0.37417365, -0.39781567,  0.95559851,\n",
       "          0.73178876,  0.05184995,  0.43025465],\n",
       "        [ 0.25307245, -1.30778832, -0.94060822, -0.5155473 ,  1.293209  ,\n",
       "          1.33223228,  1.47178584, -0.86005869],\n",
       "        [-1.23924754, -1.46183783, -0.81514191, -0.59448902, -1.81793514,\n",
       "          0.34715823,  0.15822686, -1.02893737]]),\n",
       " array([[-1.05032823e+00, -1.77367929e+00, -6.40216020e-04,\n",
       "          3.91773788e-01,  1.43474944e+00,  4.90807345e-01,\n",
       "         -5.14060973e-01, -5.57818354e-01],\n",
       "        [ 8.33586481e-01,  1.07788897e+00,  1.18697906e+00,\n",
       "          1.70524693e-01, -2.98923181e+00,  1.22274163e+00,\n",
       "         -2.65179257e+00, -1.20443691e+00],\n",
       "        [-2.68188348e-01,  3.98829448e-01, -3.20563241e-01,\n",
       "          6.60604046e-01, -5.35772117e-01, -1.36023480e+00,\n",
       "          1.38422393e+00, -3.80478953e-01],\n",
       "        [-6.95559727e-01,  9.22295153e-01, -3.04672214e-01,\n",
       "          9.62962230e-01,  4.20468481e-01,  9.86192805e-01,\n",
       "          3.07615529e-01, -5.26309583e-01]]))"
      ]
     },
     "execution_count": 3,
     "metadata": {},
     "output_type": "execute_result"
    }
   ],
   "source": [
    "q, k, v"
   ]
  },
  {
   "cell_type": "markdown",
   "metadata": {},
   "source": [
    "# Self-Attention Working"
   ]
  },
  {
   "cell_type": "code",
   "execution_count": 4,
   "metadata": {},
   "outputs": [
    {
     "data": {
      "text/plain": [
       "array([[-0.43618567,  1.20893535, -2.05544562, -1.01458911],\n",
       "       [-4.27898422,  0.66289808, -2.20213727, -1.64172268],\n",
       "       [ 1.00126395, -0.91006745,  0.18874811,  3.91738292],\n",
       "       [ 1.03571951, -0.93445041, -4.56410572, -4.5299648 ]])"
      ]
     },
     "execution_count": 4,
     "metadata": {},
     "output_type": "execute_result"
    }
   ],
   "source": [
    "np.matmul(q, k.T)"
   ]
  },
  {
   "cell_type": "code",
   "execution_count": 5,
   "metadata": {},
   "outputs": [
    {
     "data": {
      "text/plain": [
       "(0.6474576452070601, 0.9672822038086253)"
      ]
     },
     "execution_count": 5,
     "metadata": {},
     "output_type": "execute_result"
    }
   ],
   "source": [
    "q.var(), k.var()"
   ]
  },
  {
   "cell_type": "code",
   "execution_count": 6,
   "metadata": {},
   "outputs": [
    {
     "data": {
      "text/plain": [
       "5.02958295435073"
      ]
     },
     "execution_count": 6,
     "metadata": {},
     "output_type": "execute_result"
    }
   ],
   "source": [
    "np.matmul(q, k.T).var()"
   ]
  },
  {
   "cell_type": "code",
   "execution_count": 7,
   "metadata": {},
   "outputs": [],
   "source": [
    "scaled = np.matmul(q, k.T) / math.sqrt(d_k)"
   ]
  },
  {
   "cell_type": "code",
   "execution_count": 8,
   "metadata": {},
   "outputs": [
    {
     "data": {
      "text/plain": [
       "array([[-0.15421492,  0.42742319, -0.72670977, -0.35871142],\n",
       "       [-1.51284938,  0.23436986, -0.7785731 , -0.58043662],\n",
       "       [ 0.35400027, -0.32175743,  0.06673254,  1.38500401],\n",
       "       [ 0.36618215, -0.33037811, -1.61365505, -1.60158441]])"
      ]
     },
     "execution_count": 8,
     "metadata": {},
     "output_type": "execute_result"
    }
   ],
   "source": [
    "scaled"
   ]
  },
  {
   "cell_type": "code",
   "execution_count": 9,
   "metadata": {},
   "outputs": [
    {
     "data": {
      "text/plain": [
       "(0.6474576452070601, 0.9672822038086253, 0.6286978692938413)"
      ]
     },
     "execution_count": 9,
     "metadata": {},
     "output_type": "execute_result"
    }
   ],
   "source": [
    "q.var(), k.var(), scaled.var()"
   ]
  },
  {
   "cell_type": "markdown",
   "metadata": {},
   "source": [
    "# Masking"
   ]
  },
  {
   "cell_type": "code",
   "execution_count": 10,
   "metadata": {},
   "outputs": [
    {
     "data": {
      "text/plain": [
       "array([[1., 0., 0., 0.],\n",
       "       [1., 1., 0., 0.],\n",
       "       [1., 1., 1., 0.],\n",
       "       [1., 1., 1., 1.]])"
      ]
     },
     "execution_count": 10,
     "metadata": {},
     "output_type": "execute_result"
    }
   ],
   "source": [
    "mask = np.tril(np.ones((L, L)))\n",
    "mask"
   ]
  },
  {
   "cell_type": "code",
   "execution_count": 11,
   "metadata": {},
   "outputs": [],
   "source": [
    "mask[ mask == 0] = -np.inf\n",
    "mask[ mask == 1] = 0"
   ]
  },
  {
   "cell_type": "code",
   "execution_count": 12,
   "metadata": {},
   "outputs": [
    {
     "data": {
      "text/plain": [
       "array([[  0., -inf, -inf, -inf],\n",
       "       [  0.,   0., -inf, -inf],\n",
       "       [  0.,   0.,   0., -inf],\n",
       "       [  0.,   0.,   0.,   0.]])"
      ]
     },
     "execution_count": 12,
     "metadata": {},
     "output_type": "execute_result"
    }
   ],
   "source": [
    "mask"
   ]
  },
  {
   "cell_type": "code",
   "execution_count": 13,
   "metadata": {},
   "outputs": [
    {
     "data": {
      "text/plain": [
       "array([[-0.15421492,        -inf,        -inf,        -inf],\n",
       "       [-1.51284938,  0.23436986,        -inf,        -inf],\n",
       "       [ 0.35400027, -0.32175743,  0.06673254,        -inf],\n",
       "       [ 0.36618215, -0.33037811, -1.61365505, -1.60158441]])"
      ]
     },
     "execution_count": 13,
     "metadata": {},
     "output_type": "execute_result"
    }
   ],
   "source": [
    "scaled + mask"
   ]
  },
  {
   "cell_type": "markdown",
   "metadata": {},
   "source": [
    "# Softmax"
   ]
  },
  {
   "cell_type": "code",
   "execution_count": 14,
   "metadata": {},
   "outputs": [],
   "source": [
    "def softmax(x):\n",
    "    return (np.exp(x).T / np.sum(np.exp(x), axis=-1)).T"
   ]
  },
  {
   "cell_type": "code",
   "execution_count": 15,
   "metadata": {},
   "outputs": [
    {
     "data": {
      "text/plain": [
       "array([[1.        , 0.        , 0.        , 0.        ],\n",
       "       [0.14839828, 0.85160172, 0.        , 0.        ],\n",
       "       [0.44265776, 0.22521133, 0.33213091, 0.        ],\n",
       "       [0.56301337, 0.28054752, 0.07774748, 0.07869163]])"
      ]
     },
     "execution_count": 15,
     "metadata": {},
     "output_type": "execute_result"
    }
   ],
   "source": [
    "attention = softmax(scaled + mask)\n",
    "attention"
   ]
  },
  {
   "cell_type": "code",
   "execution_count": 16,
   "metadata": {},
   "outputs": [
    {
     "data": {
      "text/plain": [
       "array([[-1.05032823e+00, -1.77367929e+00, -6.40216020e-04,\n",
       "         3.91773788e-01,  1.43474944e+00,  4.90807345e-01,\n",
       "        -5.14060973e-01, -5.57818354e-01],\n",
       "       [ 5.54016785e-01,  6.54721152e-01,  1.01073841e+00,\n",
       "         2.03357677e-01, -2.33272062e+00,  1.11412385e+00,\n",
       "        -2.33455689e+00, -1.10847983e+00],\n",
       "       [-3.66276460e-01, -4.09916504e-01,  1.60568780e-01,\n",
       "         4.31232822e-01, -2.16052387e-01,  4.08589342e-02,\n",
       "        -3.65023269e-01, -6.44544284e-01],\n",
       "       [-4.33073917e-01, -5.92621182e-01,  2.83745441e-01,\n",
       "         3.95551529e-01, -3.94060318e-02,  5.91218515e-01,\n",
       "        -9.01550329e-01, -7.22958415e-01]])"
      ]
     },
     "execution_count": 16,
     "metadata": {},
     "output_type": "execute_result"
    }
   ],
   "source": [
    "new_v = np.matmul(attention, v)\n",
    "new_v"
   ]
  },
  {
   "cell_type": "code",
   "execution_count": 17,
   "metadata": {},
   "outputs": [
    {
     "data": {
      "text/plain": [
       "array([[-1.05032823e+00, -1.77367929e+00, -6.40216020e-04,\n",
       "         3.91773788e-01,  1.43474944e+00,  4.90807345e-01,\n",
       "        -5.14060973e-01, -5.57818354e-01],\n",
       "       [ 8.33586481e-01,  1.07788897e+00,  1.18697906e+00,\n",
       "         1.70524693e-01, -2.98923181e+00,  1.22274163e+00,\n",
       "        -2.65179257e+00, -1.20443691e+00],\n",
       "       [-2.68188348e-01,  3.98829448e-01, -3.20563241e-01,\n",
       "         6.60604046e-01, -5.35772117e-01, -1.36023480e+00,\n",
       "         1.38422393e+00, -3.80478953e-01],\n",
       "       [-6.95559727e-01,  9.22295153e-01, -3.04672214e-01,\n",
       "         9.62962230e-01,  4.20468481e-01,  9.86192805e-01,\n",
       "         3.07615529e-01, -5.26309583e-01]])"
      ]
     },
     "execution_count": 17,
     "metadata": {},
     "output_type": "execute_result"
    }
   ],
   "source": [
    "v"
   ]
  },
  {
   "cell_type": "markdown",
   "metadata": {},
   "source": [
    "# All in One Function"
   ]
  },
  {
   "cell_type": "code",
   "execution_count": 18,
   "metadata": {},
   "outputs": [],
   "source": [
    "def softmax(x):\n",
    "  return (np.exp(x).T / np.sum(np.exp(x), axis=-1)).T\n",
    "\n",
    "def scaled_dot_product_attention(q, k, v, mask=None):\n",
    "  d_k = q.shape[-1]\n",
    "  scaled = np.matmul(q, k.T) / math.sqrt(d_k)\n",
    "  if mask is not None:\n",
    "    scaled = scaled + mask\n",
    "  attention = softmax(scaled)\n",
    "  out = np.matmul(attention, v)\n",
    "  return out, attention"
   ]
  },
  {
   "cell_type": "code",
   "execution_count": 19,
   "metadata": {},
   "outputs": [
    {
     "name": "stdout",
     "output_type": "stream",
     "text": [
      "Q\n",
      " [[ 0.61273083  1.13588303 -0.07668819 -0.11967717 -1.10663414  0.72558852\n",
      "   0.32466577  1.01415271]\n",
      " [-0.43102019  1.70190526 -0.27558612 -0.24166775  0.04095081  1.04663879\n",
      "  -1.05256731  0.17359994]\n",
      " [ 0.06644399 -1.20945125 -0.24851811 -0.88769826 -1.0417973  -0.06049551\n",
      "  -0.27082861  0.31942523]\n",
      " [-0.34797781  1.03270325 -0.21377292  1.36688     0.56332009 -1.53889172\n",
      "  -0.18758204  1.19075472]]\n",
      "K\n",
      " [[ 0.05174536 -1.17034938 -1.27582011  1.40638064 -0.87467139 -0.61068974\n",
      "   1.50818084 -0.08137509]\n",
      " [ 1.5182199   0.29325469  0.37417365 -0.39781567  0.95559851  0.73178876\n",
      "   0.05184995  0.43025465]\n",
      " [ 0.25307245 -1.30778832 -0.94060822 -0.5155473   1.293209    1.33223228\n",
      "   1.47178584 -0.86005869]\n",
      " [-1.23924754 -1.46183783 -0.81514191 -0.59448902 -1.81793514  0.34715823\n",
      "   0.15822686 -1.02893737]]\n",
      "V\n",
      " [[-1.05032823e+00 -1.77367929e+00 -6.40216020e-04  3.91773788e-01\n",
      "   1.43474944e+00  4.90807345e-01 -5.14060973e-01 -5.57818354e-01]\n",
      " [ 8.33586481e-01  1.07788897e+00  1.18697906e+00  1.70524693e-01\n",
      "  -2.98923181e+00  1.22274163e+00 -2.65179257e+00 -1.20443691e+00]\n",
      " [-2.68188348e-01  3.98829448e-01 -3.20563241e-01  6.60604046e-01\n",
      "  -5.35772117e-01 -1.36023480e+00  1.38422393e+00 -3.80478953e-01]\n",
      " [-6.95559727e-01  9.22295153e-01 -3.04672214e-01  9.62962230e-01\n",
      "   4.20468481e-01  9.86192805e-01  3.07615529e-01 -5.26309583e-01]]\n",
      "New V\n",
      " [[-1.05032823e+00 -1.77367929e+00 -6.40216020e-04  3.91773788e-01\n",
      "   1.43474944e+00  4.90807345e-01 -5.14060973e-01 -5.57818354e-01]\n",
      " [ 5.54016785e-01  6.54721152e-01  1.01073841e+00  2.03357677e-01\n",
      "  -2.33272062e+00  1.11412385e+00 -2.33455689e+00 -1.10847983e+00]\n",
      " [-3.66276460e-01 -4.09916504e-01  1.60568780e-01  4.31232822e-01\n",
      "  -2.16052387e-01  4.08589342e-02 -3.65023269e-01 -6.44544284e-01]\n",
      " [-4.33073917e-01 -5.92621182e-01  2.83745441e-01  3.95551529e-01\n",
      "  -3.94060318e-02  5.91218515e-01 -9.01550329e-01 -7.22958415e-01]]\n",
      "Attention\n",
      " [[1.         0.         0.         0.        ]\n",
      " [0.14839828 0.85160172 0.         0.        ]\n",
      " [0.44265776 0.22521133 0.33213091 0.        ]\n",
      " [0.56301337 0.28054752 0.07774748 0.07869163]]\n"
     ]
    }
   ],
   "source": [
    "values, attention = scaled_dot_product_attention(q, k, v, mask=mask)\n",
    "print(\"Q\\n\", q)\n",
    "print(\"K\\n\", k)\n",
    "print(\"V\\n\", v)\n",
    "print(\"New V\\n\", values)\n",
    "print(\"Attention\\n\", attention)    "
   ]
  }
 ],
 "metadata": {
  "kernelspec": {
   "display_name": "pytorch",
   "language": "python",
   "name": "python3"
  },
  "language_info": {
   "codemirror_mode": {
    "name": "ipython",
    "version": 3
   },
   "file_extension": ".py",
   "mimetype": "text/x-python",
   "name": "python",
   "nbconvert_exporter": "python",
   "pygments_lexer": "ipython3",
   "version": "3.8.18"
  }
 },
 "nbformat": 4,
 "nbformat_minor": 2
}
